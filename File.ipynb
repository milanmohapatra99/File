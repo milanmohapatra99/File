{
 "cells": [
  {
   "cell_type": "code",
   "execution_count": 4,
   "id": "fdabf3c7",
   "metadata": {},
   "outputs": [
    {
     "name": "stdout",
     "output_type": "stream",
     "text": [
      "Na\n"
     ]
    }
   ],
   "source": [
    "#use open() to read the file\n",
    "f = open('out.txt','r')\n",
    "#data = f.read()\n",
    "data = f.read(2)\n",
    "print(data)\n",
    "f.close()\n"
   ]
  },
  {
   "cell_type": "code",
   "execution_count": 8,
   "id": "bd272f6d",
   "metadata": {},
   "outputs": [
    {
     "name": "stdout",
     "output_type": "stream",
     "text": [
      "Name\tMark\n",
      "\n",
      "Luttapi\t43\n",
      "\n",
      "Dagini\t32\n",
      "\n"
     ]
    }
   ],
   "source": [
    " f = open('out.txt','r')\n",
    "data = f.readline()\n",
    "print(data)\n",
    "data = f.readline()\n",
    "print(data)\n",
    "data = f.readline()\n",
    "print(data)\n",
    "f.close() "
   ]
  },
  {
   "cell_type": "code",
   "execution_count": 9,
   "id": "a469aee4",
   "metadata": {},
   "outputs": [],
   "source": [
    "f = open('another.txt','w')\n",
    "f.write(\"please write to file\")\n",
    "f.close()"
   ]
  },
  {
   "cell_type": "code",
   "execution_count": 12,
   "id": "27721684",
   "metadata": {},
   "outputs": [],
   "source": [
    "f = open('another.txt','w')\n",
    "f.write(\"i am good\")\n",
    "f.close()"
   ]
  },
  {
   "cell_type": "code",
   "execution_count": 1,
   "id": "d5fe3cca",
   "metadata": {},
   "outputs": [
    {
     "name": "stdout",
     "output_type": "stream",
     "text": [
      "2\n"
     ]
    }
   ],
   "source": [
    "with open('another.txt','r') as f:\n",
    "    a = f.read()\n",
    "with open('another.txt','w') as f:\n",
    "    a = f.write(\"me\")\n",
    "print(a)    "
   ]
  },
  {
   "cell_type": "code",
   "execution_count": 2,
   "id": "cd7a75c3",
   "metadata": {},
   "outputs": [
    {
     "name": "stdout",
     "output_type": "stream",
     "text": [
      "Twinkle is present\n"
     ]
    }
   ],
   "source": [
    "'''w.a.p to read the text from a given file'poems.txt' \n",
    "and find out wheather it contains the word twinkle'''\n",
    "f = open('poem.txt')\n",
    "t = f.read()\n",
    "if 'twinkle' in t:\n",
    "    print(\"Twinkle is present\")\n",
    "else:\n",
    "    print(\"Twinkle is not present\")\n",
    "f.close()\n"
   ]
  },
  {
   "cell_type": "code",
   "execution_count": null,
   "id": "d39f4ef3",
   "metadata": {},
   "outputs": [],
   "source": []
  }
 ],
 "metadata": {
  "kernelspec": {
   "display_name": "Python 3 (ipykernel)",
   "language": "python",
   "name": "python3"
  },
  "language_info": {
   "codemirror_mode": {
    "name": "ipython",
    "version": 3
   },
   "file_extension": ".py",
   "mimetype": "text/x-python",
   "name": "python",
   "nbconvert_exporter": "python",
   "pygments_lexer": "ipython3",
   "version": "3.9.7"
  }
 },
 "nbformat": 4,
 "nbformat_minor": 5
}
